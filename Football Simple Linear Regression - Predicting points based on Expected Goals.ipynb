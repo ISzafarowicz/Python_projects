{
 "cells": [
  {
   "cell_type": "markdown",
   "id": "b2238054",
   "metadata": {},
   "source": [
    "In this project, I made a simple Linear Regression model to predict number of points gained based on Expected Goals. <br>\n",
    "Data is scraped from Fbref.com website. <br>\n",
    "Data containes statistics for teams from the last 4 seasons."
   ]
  },
  {
   "cell_type": "code",
   "execution_count": 267,
   "id": "3f450dca",
   "metadata": {},
   "outputs": [],
   "source": [
    "# Importing libaries\n",
    "import pandas as pd\n",
    "import numpy as np\n",
    "import matplotlib.pyplot as plt\n",
    "import requests\n",
    "import seaborn as sns"
   ]
  },
  {
   "cell_type": "code",
   "execution_count": 268,
   "id": "dc673784",
   "metadata": {},
   "outputs": [],
   "source": [
    "# Setting up table scraper\n",
    "def scrape_fbref(url, table_number):\n",
    "    #Defining variables - url to the website + the table of choice (starting from 0 for the first table on the top)\n",
    "    url = url\n",
    "    table_number = table_number\n",
    "    global data\n",
    "    #Changing Fbref's HTML so all tables are redable by bs4\n",
    "    html_content = requests.get(url).text.replace('<!--', '').replace('-->', '')\n",
    "    dataframe = pd.read_html(html_content)\n",
    "    #Loading DF\n",
    "    data = dataframe[table_number]"
   ]
  },
  {
   "cell_type": "code",
   "execution_count": 269,
   "id": "92d9250f",
   "metadata": {},
   "outputs": [],
   "source": [
    "# Defining columns to use and links to tables from particular seasons\n",
    "cols = ['Squad', 'MP', 'W', 'D', 'L', 'GF', 'GA', 'GD', 'Pts', 'xG', 'xGA', 'xGD']\n",
    "season_links = ['https://fbref.com/en/comps/Big5/2020-2021/2020-2021-Big-5-European-Leagues-Stats',\n",
    "          'https://fbref.com/en/comps/Big5/2019-2020/2019-2020-Big-5-European-Leagues-Stats',\n",
    "          'https://fbref.com/en/comps/Big5/2018-2019/2018-2019-Big-5-European-Leagues-Stats',\n",
    "          'https://fbref.com/en/comps/Big5/2017-2018/2017-2018-Big-5-European-Leagues-Stats']"
   ]
  },
  {
   "cell_type": "code",
   "execution_count": 270,
   "id": "29f49710",
   "metadata": {},
   "outputs": [],
   "source": [
    "# Merging tables from 4 seasons into one dataframe\n",
    "appended_data = []\n",
    "for i in range(4):\n",
    "    scrape_fbref(season_links[i], 0)\n",
    "    data = data[cols]\n",
    "    appended_data.append(data)"
   ]
  },
  {
   "cell_type": "code",
   "execution_count": 271,
   "id": "644bd4fc",
   "metadata": {},
   "outputs": [
    {
     "data": {
      "text/html": [
       "<div>\n",
       "<style scoped>\n",
       "    .dataframe tbody tr th:only-of-type {\n",
       "        vertical-align: middle;\n",
       "    }\n",
       "\n",
       "    .dataframe tbody tr th {\n",
       "        vertical-align: top;\n",
       "    }\n",
       "\n",
       "    .dataframe thead th {\n",
       "        text-align: right;\n",
       "    }\n",
       "</style>\n",
       "<table border=\"1\" class=\"dataframe\">\n",
       "  <thead>\n",
       "    <tr style=\"text-align: right;\">\n",
       "      <th></th>\n",
       "      <th>Squad</th>\n",
       "      <th>MP</th>\n",
       "      <th>W</th>\n",
       "      <th>D</th>\n",
       "      <th>L</th>\n",
       "      <th>GF</th>\n",
       "      <th>GA</th>\n",
       "      <th>GD</th>\n",
       "      <th>Pts</th>\n",
       "      <th>xG</th>\n",
       "      <th>xGA</th>\n",
       "      <th>xGD</th>\n",
       "    </tr>\n",
       "  </thead>\n",
       "  <tbody>\n",
       "    <tr>\n",
       "      <th>21</th>\n",
       "      <td>Chelsea</td>\n",
       "      <td>38</td>\n",
       "      <td>19</td>\n",
       "      <td>10</td>\n",
       "      <td>9</td>\n",
       "      <td>58</td>\n",
       "      <td>36</td>\n",
       "      <td>22</td>\n",
       "      <td>67</td>\n",
       "      <td>64.0</td>\n",
       "      <td>32.8</td>\n",
       "      <td>31.2</td>\n",
       "    </tr>\n",
       "    <tr>\n",
       "      <th>22</th>\n",
       "      <td>Chelsea</td>\n",
       "      <td>38</td>\n",
       "      <td>20</td>\n",
       "      <td>6</td>\n",
       "      <td>12</td>\n",
       "      <td>69</td>\n",
       "      <td>54</td>\n",
       "      <td>15</td>\n",
       "      <td>66</td>\n",
       "      <td>66.6</td>\n",
       "      <td>37.9</td>\n",
       "      <td>28.6</td>\n",
       "    </tr>\n",
       "    <tr>\n",
       "      <th>11</th>\n",
       "      <td>Chelsea</td>\n",
       "      <td>38</td>\n",
       "      <td>21</td>\n",
       "      <td>9</td>\n",
       "      <td>8</td>\n",
       "      <td>63</td>\n",
       "      <td>39</td>\n",
       "      <td>24</td>\n",
       "      <td>72</td>\n",
       "      <td>59.0</td>\n",
       "      <td>35.3</td>\n",
       "      <td>23.7</td>\n",
       "    </tr>\n",
       "    <tr>\n",
       "      <th>19</th>\n",
       "      <td>Chelsea</td>\n",
       "      <td>38</td>\n",
       "      <td>21</td>\n",
       "      <td>7</td>\n",
       "      <td>10</td>\n",
       "      <td>62</td>\n",
       "      <td>38</td>\n",
       "      <td>24</td>\n",
       "      <td>70</td>\n",
       "      <td>57.9</td>\n",
       "      <td>35.3</td>\n",
       "      <td>22.7</td>\n",
       "    </tr>\n",
       "  </tbody>\n",
       "</table>\n",
       "</div>"
      ],
      "text/plain": [
       "      Squad  MP   W   D   L  GF  GA  GD  Pts    xG   xGA   xGD\n",
       "21  Chelsea  38  19  10   9  58  36  22   67  64.0  32.8  31.2\n",
       "22  Chelsea  38  20   6  12  69  54  15   66  66.6  37.9  28.6\n",
       "11  Chelsea  38  21   9   8  63  39  24   72  59.0  35.3  23.7\n",
       "19  Chelsea  38  21   7  10  62  38  24   70  57.9  35.3  22.7"
      ]
     },
     "execution_count": 271,
     "metadata": {},
     "output_type": "execute_result"
    }
   ],
   "source": [
    "df = pd.concat(appended_data)\n",
    "df.loc[df['Squad'] == 'Chelsea']"
   ]
  },
  {
   "cell_type": "markdown",
   "id": "096537cd",
   "metadata": {},
   "source": [
    "As most of the teams have been added 4 times, I have decided to merge duplicates and divide the score by 4 in order to get realistic data"
   ]
  },
  {
   "cell_type": "code",
   "execution_count": 272,
   "id": "35c5fc7f",
   "metadata": {},
   "outputs": [
    {
     "data": {
      "text/html": [
       "<div>\n",
       "<style scoped>\n",
       "    .dataframe tbody tr th:only-of-type {\n",
       "        vertical-align: middle;\n",
       "    }\n",
       "\n",
       "    .dataframe tbody tr th {\n",
       "        vertical-align: top;\n",
       "    }\n",
       "\n",
       "    .dataframe thead th {\n",
       "        text-align: right;\n",
       "    }\n",
       "</style>\n",
       "<table border=\"1\" class=\"dataframe\">\n",
       "  <thead>\n",
       "    <tr style=\"text-align: right;\">\n",
       "      <th></th>\n",
       "      <th>Squad</th>\n",
       "      <th>MP</th>\n",
       "      <th>W</th>\n",
       "      <th>D</th>\n",
       "      <th>L</th>\n",
       "      <th>GF</th>\n",
       "      <th>GA</th>\n",
       "      <th>GD</th>\n",
       "      <th>Pts</th>\n",
       "      <th>xG</th>\n",
       "      <th>xGA</th>\n",
       "      <th>xGD</th>\n",
       "    </tr>\n",
       "  </thead>\n",
       "  <tbody>\n",
       "    <tr>\n",
       "      <th>21</th>\n",
       "      <td>Chelsea</td>\n",
       "      <td>38.0</td>\n",
       "      <td>20.25</td>\n",
       "      <td>8.0</td>\n",
       "      <td>9.75</td>\n",
       "      <td>63.0</td>\n",
       "      <td>41.75</td>\n",
       "      <td>21.25</td>\n",
       "      <td>68.75</td>\n",
       "      <td>61.875</td>\n",
       "      <td>35.325</td>\n",
       "      <td>26.55</td>\n",
       "    </tr>\n",
       "  </tbody>\n",
       "</table>\n",
       "</div>"
      ],
      "text/plain": [
       "      Squad    MP      W    D     L    GF     GA     GD    Pts      xG  \\\n",
       "21  Chelsea  38.0  20.25  8.0  9.75  63.0  41.75  21.25  68.75  61.875   \n",
       "\n",
       "       xGA    xGD  \n",
       "21  35.325  26.55  "
      ]
     },
     "execution_count": 272,
     "metadata": {},
     "output_type": "execute_result"
    }
   ],
   "source": [
    "cols_to_sum = ['MP', 'W', 'D', 'L', 'GF', 'GA', 'GD', 'Pts', 'xG', 'xGA', 'xGD']\n",
    "df[cols_to_sum] = df.groupby('Squad')[cols_to_sum].transform('sum')\n",
    "df = df.drop_duplicates(subset='Squad')\n",
    "df[cols_to_sum] = df[cols_to_sum].div(4)\n",
    "df.loc[df['Squad'] == 'Chelsea']"
   ]
  },
  {
   "cell_type": "code",
   "execution_count": 273,
   "id": "6f18a043",
   "metadata": {},
   "outputs": [
    {
     "data": {
      "text/html": [
       "<div>\n",
       "<style scoped>\n",
       "    .dataframe tbody tr th:only-of-type {\n",
       "        vertical-align: middle;\n",
       "    }\n",
       "\n",
       "    .dataframe tbody tr th {\n",
       "        vertical-align: top;\n",
       "    }\n",
       "\n",
       "    .dataframe thead th {\n",
       "        text-align: right;\n",
       "    }\n",
       "</style>\n",
       "<table border=\"1\" class=\"dataframe\">\n",
       "  <thead>\n",
       "    <tr style=\"text-align: right;\">\n",
       "      <th></th>\n",
       "      <th>Squad</th>\n",
       "      <th>MP</th>\n",
       "      <th>W</th>\n",
       "      <th>D</th>\n",
       "      <th>L</th>\n",
       "      <th>GF</th>\n",
       "      <th>GA</th>\n",
       "      <th>GD</th>\n",
       "      <th>Pts</th>\n",
       "      <th>xG</th>\n",
       "      <th>xGA</th>\n",
       "      <th>xGD</th>\n",
       "    </tr>\n",
       "  </thead>\n",
       "  <tbody>\n",
       "    <tr>\n",
       "      <th>95</th>\n",
       "      <td>Nürnberg</td>\n",
       "      <td>8.5</td>\n",
       "      <td>0.75</td>\n",
       "      <td>2.50</td>\n",
       "      <td>5.25</td>\n",
       "      <td>6.50</td>\n",
       "      <td>17.00</td>\n",
       "      <td>-10.50</td>\n",
       "      <td>4.75</td>\n",
       "      <td>8.250</td>\n",
       "      <td>13.925</td>\n",
       "      <td>-5.650</td>\n",
       "    </tr>\n",
       "    <tr>\n",
       "      <th>97</th>\n",
       "      <td>Málaga</td>\n",
       "      <td>9.5</td>\n",
       "      <td>1.25</td>\n",
       "      <td>1.25</td>\n",
       "      <td>7.00</td>\n",
       "      <td>6.00</td>\n",
       "      <td>15.25</td>\n",
       "      <td>-9.25</td>\n",
       "      <td>5.00</td>\n",
       "      <td>8.275</td>\n",
       "      <td>13.425</td>\n",
       "      <td>-5.150</td>\n",
       "    </tr>\n",
       "    <tr>\n",
       "      <th>94</th>\n",
       "      <td>Paderborn 07</td>\n",
       "      <td>8.5</td>\n",
       "      <td>1.00</td>\n",
       "      <td>2.00</td>\n",
       "      <td>5.50</td>\n",
       "      <td>9.25</td>\n",
       "      <td>18.50</td>\n",
       "      <td>-9.25</td>\n",
       "      <td>5.00</td>\n",
       "      <td>9.600</td>\n",
       "      <td>16.875</td>\n",
       "      <td>-7.250</td>\n",
       "    </tr>\n",
       "    <tr>\n",
       "      <th>95</th>\n",
       "      <td>Norwich City</td>\n",
       "      <td>9.5</td>\n",
       "      <td>1.25</td>\n",
       "      <td>1.50</td>\n",
       "      <td>6.75</td>\n",
       "      <td>6.50</td>\n",
       "      <td>18.75</td>\n",
       "      <td>-12.25</td>\n",
       "      <td>5.25</td>\n",
       "      <td>9.500</td>\n",
       "      <td>15.475</td>\n",
       "      <td>-5.975</td>\n",
       "    </tr>\n",
       "    <tr>\n",
       "      <th>95</th>\n",
       "      <td>Las Palmas</td>\n",
       "      <td>9.5</td>\n",
       "      <td>1.25</td>\n",
       "      <td>1.75</td>\n",
       "      <td>6.50</td>\n",
       "      <td>6.00</td>\n",
       "      <td>18.50</td>\n",
       "      <td>-12.50</td>\n",
       "      <td>5.50</td>\n",
       "      <td>9.350</td>\n",
       "      <td>16.600</td>\n",
       "      <td>-7.275</td>\n",
       "    </tr>\n",
       "  </tbody>\n",
       "</table>\n",
       "</div>"
      ],
      "text/plain": [
       "           Squad   MP     W     D     L    GF     GA     GD   Pts     xG  \\\n",
       "95      Nürnberg  8.5  0.75  2.50  5.25  6.50  17.00 -10.50  4.75  8.250   \n",
       "97        Málaga  9.5  1.25  1.25  7.00  6.00  15.25  -9.25  5.00  8.275   \n",
       "94  Paderborn 07  8.5  1.00  2.00  5.50  9.25  18.50  -9.25  5.00  9.600   \n",
       "95  Norwich City  9.5  1.25  1.50  6.75  6.50  18.75 -12.25  5.25  9.500   \n",
       "95    Las Palmas  9.5  1.25  1.75  6.50  6.00  18.50 -12.50  5.50  9.350   \n",
       "\n",
       "       xGA    xGD  \n",
       "95  13.925 -5.650  \n",
       "97  13.425 -5.150  \n",
       "94  16.875 -7.250  \n",
       "95  15.475 -5.975  \n",
       "95  16.600 -7.275  "
      ]
     },
     "execution_count": 273,
     "metadata": {},
     "output_type": "execute_result"
    }
   ],
   "source": [
    "df.loc[df['Pts'] < 25].sort_values('Pts').head()"
   ]
  },
  {
   "cell_type": "markdown",
   "id": "a10c80f4",
   "metadata": {},
   "source": [
    "Since dividing all results leads to lowering scores for teams that haven't played in the top 5 leagues for whole 4 seasons, I will drop all teams with less than 25 points"
   ]
  },
  {
   "cell_type": "code",
   "execution_count": 274,
   "id": "84605bd8",
   "metadata": {},
   "outputs": [],
   "source": [
    "df = df.loc[df['Pts'] > 24]"
   ]
  },
  {
   "cell_type": "code",
   "execution_count": 275,
   "id": "0c922bc0",
   "metadata": {},
   "outputs": [
    {
     "data": {
      "text/plain": [
       "<AxesSubplot:xlabel='xG', ylabel='Pts'>"
      ]
     },
     "execution_count": 275,
     "metadata": {},
     "output_type": "execute_result"
    },
    {
     "data": {
      "image/png": "[encoded data removed]",
      "text/plain": [
       "<Figure size 432x288 with 1 Axes>"
      ]
     },
     "metadata": {
      "needs_background": "light"
     },
     "output_type": "display_data"
    }
   ],
   "source": [
    "sns.scatterplot(x='xG', y='Pts', data=df)"
   ]
  },
  {
   "cell_type": "markdown",
   "id": "610be900",
   "metadata": {},
   "source": [
    "From the scatterplot it is clear, that there is a big corelation between these variables. <br>\n",
    "Now, let's built a Linear Regression model."
   ]
  },
  {
   "cell_type": "code",
   "execution_count": 276,
   "id": "b0b21770",
   "metadata": {},
   "outputs": [
    {
     "data": {
      "image/png": "[encoded data removed]",
      "text/plain": [
       "<Figure size 432x288 with 1 Axes>"
      ]
     },
     "metadata": {
      "needs_background": "light"
     },
     "output_type": "display_data"
    }
   ],
   "source": [
    "from sklearn.linear_model import LinearRegression\n",
    "from sklearn.model_selection import train_test_split\n",
    "\n",
    "X = df['xG'].values.reshape(-1, 1)\n",
    "y = df['Pts'].values.reshape(-1, 1)\n",
    "reg = LinearRegression()\n",
    "\n",
    "# Model training\n",
    "X_train, X_test, y_train, y_test = train_test_split(X, y, test_size=0.25, random_state=101)\n",
    "reg.fit(X_train, y_train)\n",
    "y_pred = reg.predict(X_test)\n",
    "\n",
    "# Visualizing the model\n",
    "plt.scatter(X_test, y_test)\n",
    "plt.plot(X_test, y_pred, color='red', linewidth=2)\n",
    "plt.title(\"Expected goals vs points\")\n",
    "plt.xlabel('Expected goals')\n",
    "plt.ylabel('Points')\n",
    "plt.show()"
   ]
  },
  {
   "cell_type": "code",
   "execution_count": 277,
   "id": "944636d8",
   "metadata": {},
   "outputs": [
    {
     "name": "stdout",
     "output_type": "stream",
     "text": [
      "For every expected goal, team gaines by average [[1.21]] points.\n"
     ]
    }
   ],
   "source": [
    "print(f'For every expected goal, team gaines by average {reg.coef_.round(2)} points.')"
   ]
  },
  {
   "cell_type": "code",
   "execution_count": 278,
   "id": "0a16e60b",
   "metadata": {},
   "outputs": [
    {
     "name": "stdout",
     "output_type": "stream",
     "text": [
      "R squared = 0.8470299309346229\n"
     ]
    }
   ],
   "source": [
    "r_squared = reg.score(X_test, y_test)\n",
    "print(f'R squared = {r_squared}')"
   ]
  },
  {
   "cell_type": "markdown",
   "id": "c5a2c1ce",
   "metadata": {},
   "source": [
    "Example of usage: <br>\n",
    "Predicting points at the end of the season for teams, that gathered 50, 70, 25 and 100 expected goals during a season."
   ]
  },
  {
   "cell_type": "code",
   "execution_count": 279,
   "id": "5683ece2",
   "metadata": {},
   "outputs": [
    {
     "data": {
      "text/plain": [
       "array([[ 54.14642404],\n",
       "       [ 78.3216324 ],\n",
       "       [ 23.92741358],\n",
       "       [114.58444495]])"
      ]
     },
     "execution_count": 279,
     "metadata": {},
     "output_type": "execute_result"
    }
   ],
   "source": [
    "X_new = np.array([50, 70, 25, 100]).reshape(-1, 1)\n",
    "y_new = reg.predict(X_new)\n",
    "y_new"
   ]
  },
  {
   "cell_type": "markdown",
   "id": "5ec007df",
   "metadata": {},
   "source": [
    "Disadvantages of this model: <br>\n",
    "Model does not count Expected Goals Against, so prediction for teams that score and concede a lot of goals will not be accurate at all; <br>\n",
    "Model is based on mean data from 4 seasons, which could be misleading for predicting outcomes during one particular season."
   ]
  }
 ],
 "metadata": {
  "kernelspec": {
   "display_name": "Python 3",
   "language": "python",
   "name": "python3"
  },
  "language_info": {
   "codemirror_mode": {
    "name": "ipython",
    "version": 3
   },
   "file_extension": ".py",
   "mimetype": "text/x-python",
   "name": "python",
   "nbconvert_exporter": "python",
   "pygments_lexer": "ipython3",
   "version": "3.8.8"
  }
 },
 "nbformat": 4,
 "nbformat_minor": 5
}
