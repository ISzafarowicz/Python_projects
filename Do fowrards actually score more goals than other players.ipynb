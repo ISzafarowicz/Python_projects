{
 "cells": [
  {
   "cell_type": "markdown",
   "id": "da2add98",
   "metadata": {},
   "source": [
    "Scoring goals is the hardest thing to do in the game of football. This is why in this analysis I will check, if forwards, whose main role is to score goals, actually score more goals than players in other positions. Data containes number of goals scored by all players in 5 best european leagues. (Spanish, French, German, English and Italian first divisions)  <br>\n",
    "The analysis is based on data from https://fbref.com, from which I have downloaded player data for 2020/2021 season."
   ]
  },
  {
   "cell_type": "code",
   "execution_count": 2,
   "id": "01cf4cab",
   "metadata": {},
   "outputs": [],
   "source": [
    "# Importing libaries\n",
    "import pandas as pd\n",
    "import numpy as np\n",
    "import matplotlib.pyplot as plt"
   ]
  },
  {
   "cell_type": "markdown",
   "id": "221e478e",
   "metadata": {},
   "source": [
    "In order to make the dataset, firstly I have downloaded 5 tables with all players stats from top 5 leagues (English, Spanish, German, French and Italian first divisions) onto my computer. Secondly, I have merged them, and deleted all columns except for name, position and number of goals scored."
   ]
  },
  {
   "cell_type": "code",
   "execution_count": 3,
   "id": "ae1be546",
   "metadata": {},
   "outputs": [
    {
     "data": {
      "text/html": [
       "<div>\n",
       "<style scoped>\n",
       "    .dataframe tbody tr th:only-of-type {\n",
       "        vertical-align: middle;\n",
       "    }\n",
       "\n",
       "    .dataframe tbody tr th {\n",
       "        vertical-align: top;\n",
       "    }\n",
       "\n",
       "    .dataframe thead th {\n",
       "        text-align: right;\n",
       "    }\n",
       "</style>\n",
       "<table border=\"1\" class=\"dataframe\">\n",
       "  <thead>\n",
       "    <tr style=\"text-align: right;\">\n",
       "      <th></th>\n",
       "      <th>1_Player</th>\n",
       "      <th>3_Pos</th>\n",
       "      <th>Performance_Gls</th>\n",
       "    </tr>\n",
       "  </thead>\n",
       "  <tbody>\n",
       "    <tr>\n",
       "      <th>0</th>\n",
       "      <td>Patrick van Aanholt</td>\n",
       "      <td>DF</td>\n",
       "      <td>0</td>\n",
       "    </tr>\n",
       "    <tr>\n",
       "      <th>1</th>\n",
       "      <td>Tammy Abraham</td>\n",
       "      <td>FW</td>\n",
       "      <td>6</td>\n",
       "    </tr>\n",
       "    <tr>\n",
       "      <th>2</th>\n",
       "      <td>Che Adams</td>\n",
       "      <td>FW</td>\n",
       "      <td>9</td>\n",
       "    </tr>\n",
       "    <tr>\n",
       "      <th>3</th>\n",
       "      <td>Tosin Adarabioyo</td>\n",
       "      <td>DF</td>\n",
       "      <td>0</td>\n",
       "    </tr>\n",
       "    <tr>\n",
       "      <th>4</th>\n",
       "      <td>Adrián</td>\n",
       "      <td>GK</td>\n",
       "      <td>0</td>\n",
       "    </tr>\n",
       "  </tbody>\n",
       "</table>\n",
       "</div>"
      ],
      "text/plain": [
       "              1_Player 3_Pos Performance_Gls\n",
       "0  Patrick van Aanholt    DF               0\n",
       "1        Tammy Abraham    FW               6\n",
       "2            Che Adams    FW               9\n",
       "3     Tosin Adarabioyo    DF               0\n",
       "4               Adrián    GK               0"
      ]
     },
     "execution_count": 3,
     "metadata": {},
     "output_type": "execute_result"
    }
   ],
   "source": [
    "df = pd.read_csv(r'C:\\Users\\igors\\Desktop\\Data Science\\2020-2021 player stats.csv')\n",
    "del df['Unnamed: 0']\n",
    "df.head()"
   ]
  },
  {
   "cell_type": "markdown",
   "id": "bfaf6b32",
   "metadata": {},
   "source": [
    "Next step is to clean the data in order for it to properly work."
   ]
  },
  {
   "cell_type": "code",
   "execution_count": 4,
   "id": "d008c113",
   "metadata": {},
   "outputs": [
    {
     "data": {
      "text/plain": [
       "234"
      ]
     },
     "execution_count": 4,
     "metadata": {},
     "output_type": "execute_result"
    }
   ],
   "source": [
    "# Deleting NaN rows (with player name being 'Player') and checking for duplicates\n",
    "players = df['1_Player']\n",
    "df = df[players != 'Player']\n",
    "players.duplicated(keep='first').sum()"
   ]
  },
  {
   "cell_type": "code",
   "execution_count": 5,
   "id": "56bc7b57",
   "metadata": {},
   "outputs": [
    {
     "data": {
      "text/plain": [
       "1_Player           object\n",
       "3_Pos              object\n",
       "Performance_Gls    object\n",
       "dtype: object"
      ]
     },
     "execution_count": 5,
     "metadata": {},
     "output_type": "execute_result"
    }
   ],
   "source": [
    "df.dtypes"
   ]
  },
  {
   "cell_type": "code",
   "execution_count": 6,
   "id": "a0bd015d",
   "metadata": {},
   "outputs": [
    {
     "data": {
      "text/plain": [
       "1_Player           object\n",
       "3_Pos              object\n",
       "Performance_Gls     int64\n",
       "dtype: object"
      ]
     },
     "execution_count": 6,
     "metadata": {},
     "output_type": "execute_result"
    }
   ],
   "source": [
    "#Converting goals column into integers\n",
    "df['Performance_Gls'] = df['Performance_Gls'].astype('int64')\n",
    "df.dtypes"
   ]
  },
  {
   "cell_type": "code",
   "execution_count": 7,
   "id": "f0e8c6b3",
   "metadata": {},
   "outputs": [],
   "source": [
    "# Merging duplicated rows (for players playing in multiple teams during a season)\n",
    "df['Performance_Gls'] = df.groupby('1_Player')['Performance_Gls'].transform('sum')\n",
    "df = df.drop_duplicates(subset='1_Player')"
   ]
  },
  {
   "cell_type": "code",
   "execution_count": 8,
   "id": "5c80a540",
   "metadata": {},
   "outputs": [
    {
     "data": {
      "text/plain": [
       "(2698, 3)"
      ]
     },
     "execution_count": 8,
     "metadata": {},
     "output_type": "execute_result"
    }
   ],
   "source": [
    "df.shape"
   ]
  },
  {
   "cell_type": "code",
   "execution_count": 9,
   "id": "67432d94",
   "metadata": {},
   "outputs": [
    {
     "data": {
      "text/html": [
       "<div>\n",
       "<style scoped>\n",
       "    .dataframe tbody tr th:only-of-type {\n",
       "        vertical-align: middle;\n",
       "    }\n",
       "\n",
       "    .dataframe tbody tr th {\n",
       "        vertical-align: top;\n",
       "    }\n",
       "\n",
       "    .dataframe thead th {\n",
       "        text-align: right;\n",
       "    }\n",
       "</style>\n",
       "<table border=\"1\" class=\"dataframe\">\n",
       "  <thead>\n",
       "    <tr style=\"text-align: right;\">\n",
       "      <th></th>\n",
       "      <th>Performance_Gls</th>\n",
       "    </tr>\n",
       "  </thead>\n",
       "  <tbody>\n",
       "    <tr>\n",
       "      <th>count</th>\n",
       "      <td>2698.000000</td>\n",
       "    </tr>\n",
       "    <tr>\n",
       "      <th>mean</th>\n",
       "      <td>1.837287</td>\n",
       "    </tr>\n",
       "    <tr>\n",
       "      <th>std</th>\n",
       "      <td>3.449276</td>\n",
       "    </tr>\n",
       "    <tr>\n",
       "      <th>min</th>\n",
       "      <td>0.000000</td>\n",
       "    </tr>\n",
       "    <tr>\n",
       "      <th>25%</th>\n",
       "      <td>0.000000</td>\n",
       "    </tr>\n",
       "    <tr>\n",
       "      <th>50%</th>\n",
       "      <td>0.000000</td>\n",
       "    </tr>\n",
       "    <tr>\n",
       "      <th>75%</th>\n",
       "      <td>2.000000</td>\n",
       "    </tr>\n",
       "    <tr>\n",
       "      <th>max</th>\n",
       "      <td>41.000000</td>\n",
       "    </tr>\n",
       "  </tbody>\n",
       "</table>\n",
       "</div>"
      ],
      "text/plain": [
       "       Performance_Gls\n",
       "count      2698.000000\n",
       "mean          1.837287\n",
       "std           3.449276\n",
       "min           0.000000\n",
       "25%           0.000000\n",
       "50%           0.000000\n",
       "75%           2.000000\n",
       "max          41.000000"
      ]
     },
     "execution_count": 9,
     "metadata": {},
     "output_type": "execute_result"
    }
   ],
   "source": [
    "df.describe()"
   ]
  },
  {
   "cell_type": "markdown",
   "id": "b6f1a991",
   "metadata": {},
   "source": [
    "From the describe method we can see, that 50% of all players didn't score a single goal during the whole season. <br>\n",
    "Let's see the distribution of goals scored."
   ]
  },
  {
   "cell_type": "code",
   "execution_count": 10,
   "id": "1cfd9216",
   "metadata": {},
   "outputs": [],
   "source": [
    "# Defining ECDF function to visualise distribution\n",
    "def ecdf(data):\n",
    "    # n - number of data points\n",
    "    n = len(data)\n",
    "    # x - x-data for ECDF\n",
    "    x = np.sort(data)\n",
    "    # y - y-data for ECDF\n",
    "    y = np.arange(1, n+1) / n\n",
    "    return x, y"
   ]
  },
  {
   "cell_type": "code",
   "execution_count": 11,
   "id": "05420fad",
   "metadata": {},
   "outputs": [
    {
     "data": {
      "image/png": "[encoded data removed]",
      "text/plain": [
       "<Figure size 432x288 with 1 Axes>"
      ]
     },
     "metadata": {
      "needs_background": "light"
     },
     "output_type": "display_data"
    }
   ],
   "source": [
    "# PDF of goals scored by all players during 2020/2021 season\n",
    "plt.hist(df['Performance_Gls'], bins=5, density=True)\n",
    "plt.xlabel('Number of goals scored')\n",
    "plt.ylabel('PDF')\n",
    "plt.show()"
   ]
  },
  {
   "cell_type": "markdown",
   "id": "df3e2934",
   "metadata": {},
   "source": [
    "As shown above, most of the players have scored less than 10 goals. Now let's conduct an ECDF"
   ]
  },
  {
   "cell_type": "code",
   "execution_count": 12,
   "id": "e3a2a671",
   "metadata": {},
   "outputs": [
    {
     "data": {
      "image/png": "[encoded data removed]",
      "text/plain": [
       "<Figure size 432x288 with 1 Axes>"
      ]
     },
     "metadata": {
      "needs_background": "light"
     },
     "output_type": "display_data"
    }
   ],
   "source": [
    "# Computing ECDF for amount of goals scored by player during 2020/2021 season\n",
    "#n - number of data points\n",
    "x, y = ecdf(df['Performance_Gls'])\n",
    "#Generate ECDF plot\n",
    "plt.scatter(x, y)\n",
    "plt.xlabel('Number of goals scored')\n",
    "plt.ylabel('ECDF')\n",
    "plt.show()"
   ]
  },
  {
   "cell_type": "markdown",
   "id": "8a388455",
   "metadata": {},
   "source": [
    "Almost all of the players scored 10 goals of less, and 50% of all players didn't score a single goal. But since dataset contains all players, I have decided to exclude goalkeepers from the data, because all of 205 of them managed to score only 3 goals combined."
   ]
  },
  {
   "cell_type": "code",
   "execution_count": 13,
   "id": "7d11f954",
   "metadata": {},
   "outputs": [
    {
     "name": "stdout",
     "output_type": "stream",
     "text": [
      "Combined goals by goalkeepers: 3\n"
     ]
    }
   ],
   "source": [
    "goals_by_goalkeepers = df[df['3_Pos'] == 'GK']['Performance_Gls'].sum()\n",
    "print(f'Combined goals by goalkeepers: {goals_by_goalkeepers}')"
   ]
  },
  {
   "cell_type": "code",
   "execution_count": 14,
   "id": "6a0764b8",
   "metadata": {},
   "outputs": [
    {
     "data": {
      "text/plain": [
       "DF       858\n",
       "MF       551\n",
       "FW       347\n",
       "FW,MF    294\n",
       "MF,FW    226\n",
       "GK       204\n",
       "DF,MF     82\n",
       "MF,DF     75\n",
       "DF,FW     34\n",
       "FW,DF     26\n",
       "GK,MF      1\n",
       "Name: 3_Pos, dtype: int64"
      ]
     },
     "execution_count": 14,
     "metadata": {},
     "output_type": "execute_result"
    }
   ],
   "source": [
    "df['3_Pos'].value_counts()"
   ]
  },
  {
   "cell_type": "code",
   "execution_count": 15,
   "id": "6ceca5bc",
   "metadata": {},
   "outputs": [
    {
     "data": {
      "text/plain": [
       "DF       858\n",
       "MF       551\n",
       "FW       347\n",
       "FW,MF    294\n",
       "MF,FW    226\n",
       "DF,MF     82\n",
       "MF,DF     75\n",
       "DF,FW     34\n",
       "FW,DF     26\n",
       "Name: 3_Pos, dtype: int64"
      ]
     },
     "execution_count": 15,
     "metadata": {},
     "output_type": "execute_result"
    }
   ],
   "source": [
    "df = df[df['3_Pos'] != 'GK']\n",
    "df = df[df['3_Pos'] != 'GK,MF']\n",
    "df['3_Pos'].value_counts()"
   ]
  },
  {
   "cell_type": "markdown",
   "id": "e47b296b",
   "metadata": {},
   "source": [
    "In order to answear the main question, firstly I will compare distributions of goals scored by forwards and players in different possitions."
   ]
  },
  {
   "cell_type": "code",
   "execution_count": 16,
   "id": "287c45a1",
   "metadata": {},
   "outputs": [
    {
     "data": {
      "image/png": "[encoded data removed]",
      "text/plain": [
       "<Figure size 432x288 with 1 Axes>"
      ]
     },
     "metadata": {
      "needs_background": "light"
     },
     "output_type": "display_data"
    }
   ],
   "source": [
    "fw_cols = ['FW','FW,MF']\n",
    "forwards = df.loc[df['3_Pos'].isin(fw_cols)]\n",
    "\n",
    "rest_cols = ['DF','MF','MF,FW','DF,MF','MF,DF','FW,DF']\n",
    "rest = df.loc[df['3_Pos'].isin(rest_cols)]\n",
    "\n",
    "x_fw, y_fw = ecdf(forwards['Performance_Gls'])\n",
    "plt.scatter(x_fw, y_fw, label='Forwards')\n",
    "\n",
    "x_rest, y_rest = ecdf(rest['Performance_Gls'])\n",
    "plt.scatter(x_rest, y_rest, label='Other positions (excluding goalkeepers)')\n",
    "\n",
    "plt.xlabel('Number of goals scored by a player')\n",
    "plt.ylabel('ECDF')\n",
    "plt.legend()\n",
    "plt.show()"
   ]
  },
  {
   "cell_type": "markdown",
   "id": "961ee997",
   "metadata": {},
   "source": [
    "Eyeballing the data suggest that forwards actually do score a lot more goals. <br>\n",
    "Now let's estimate parameters before performing hypothesis test."
   ]
  },
  {
   "cell_type": "code",
   "execution_count": 17,
   "id": "f6817659",
   "metadata": {},
   "outputs": [
    {
     "name": "stdout",
     "output_type": "stream",
     "text": [
      "Difference of means = 3.2716919897918024\n"
     ]
    }
   ],
   "source": [
    "# Difference of means between empirical data\n",
    "mean_diff = forwards['Performance_Gls'].mean() - rest['Performance_Gls'].mean()\n",
    "print(f'Difference of means = {mean_diff}')"
   ]
  },
  {
   "cell_type": "markdown",
   "id": "7debfada",
   "metadata": {},
   "source": [
    "In order to test the hypothesis, I will simulate 2020/2021 season 10 000 times in order to get a big sample of permutated data.<br> It will allow to test the null hyphotesis, which states that difference between mean number of goals scored by forwards and players in other possitions is equal to 0."
   ]
  },
  {
   "cell_type": "code",
   "execution_count": 18,
   "id": "eef6e3ec",
   "metadata": {},
   "outputs": [],
   "source": [
    "# Mean for bootstrap replicates for forwards and the rest\n",
    "bs_rep_fw = np.empty(10000)\n",
    "for i in range(10000):\n",
    "    bs_rep_fw[i] = np.mean(np.random.choice(forwards['Performance_Gls'], size=len(forwards)))\n",
    "\n",
    "bs_rep_rest = np.empty(10000)\n",
    "for i in range(10000):\n",
    "    bs_rep_rest[i] = np.mean(np.random.choice(rest['Performance_Gls'], size=len(rest)))"
   ]
  },
  {
   "cell_type": "code",
   "execution_count": 19,
   "id": "698cb922",
   "metadata": {},
   "outputs": [],
   "source": [
    "# Samples of difference of means\n",
    "bs_rep_mean_diff = bs_rep_fw - bs_rep_rest"
   ]
  },
  {
   "cell_type": "code",
   "execution_count": 20,
   "id": "f793a2a0",
   "metadata": {},
   "outputs": [
    {
     "name": "stdout",
     "output_type": "stream",
     "text": [
      "95% confidence interval = [2.85404067 3.71759828]\n"
     ]
    }
   ],
   "source": [
    "# 95% confidence interval for difference of replicate means \n",
    "conf_int = np.percentile(bs_rep_mean_diff, [2.5, 97.5])\n",
    "print(f'95% confidence interval = {conf_int}')"
   ]
  },
  {
   "cell_type": "code",
   "execution_count": 21,
   "id": "976324b0",
   "metadata": {},
   "outputs": [
    {
     "name": "stdout",
     "output_type": "stream",
     "text": [
      "p value = 0.4967\n"
     ]
    }
   ],
   "source": [
    "# Calculating p value\n",
    "p = np.sum(bs_rep_mean_diff >= mean_diff) / len(bs_rep_mean_diff)\n",
    "print(f'p value = {p}')"
   ]
  },
  {
   "cell_type": "markdown",
   "id": "fa94cadf",
   "metadata": {},
   "source": [
    "As p value is very high, we should conclude that forwards do actually score more goals than players in other possitions."
   ]
  }
 ],
 "metadata": {
  "kernelspec": {
   "display_name": "Python 3",
   "language": "python",
   "name": "python3"
  },
  "language_info": {
   "codemirror_mode": {
    "name": "ipython",
    "version": 3
   },
   "file_extension": ".py",
   "mimetype": "text/x-python",
   "name": "python",
   "nbconvert_exporter": "python",
   "pygments_lexer": "ipython3",
   "version": "3.8.8"
  }
 },
 "nbformat": 4,
 "nbformat_minor": 5
}
